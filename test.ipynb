{
 "cells": [
  {
   "metadata": {},
   "cell_type": "code",
   "outputs": [],
   "execution_count": null,
   "source": [
    "import pickle\n",
    "\n",
    "import pandas\n",
    "\n",
    "with open(\"standalone/commands.pkl\", \"rb\") as f:\n",
    "    commands = pickle.load(f)\n",
    "df = pandas.DataFrame(commands)\n",
    "df.tail()"
   ],
   "id": "6cdaee1f7ccfe970"
  },
  {
   "metadata": {},
   "cell_type": "code",
   "outputs": [],
   "execution_count": null,
   "source": "print(commands[1702])\n",
   "id": "df0221d4e92e592a"
  }
 ],
 "metadata": {},
 "nbformat": 5,
 "nbformat_minor": 9
}
